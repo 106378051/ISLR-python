{
 "cells": [
  {
   "cell_type": "code",
   "execution_count": 1,
   "metadata": {
    "collapsed": true
   },
   "outputs": [],
   "source": [
    "# %load ../standard_import.txt\n",
    "import pandas as pd\n",
    "import numpy as np\n",
    "import matplotlib as mpl\n",
    "import matplotlib.pyplot as plt\n",
    "\n",
    "import sklearn.linear_model as skl_lm\n",
    "from sklearn.metrics import mean_squared_error\n",
    "from sklearn import cross_validation\n",
    "\n",
    "pd.set_option('display.notebook_repr_html', False)\n",
    "pd.set_option('display.max_columns', None)\n",
    "pd.set_option('display.max_rows', 150)\n",
    "pd.set_option('display.max_seq_items', None)\n",
    " \n",
    "#%config InlineBackend.figure_formats = {'svg',}\n",
    "%matplotlib inline\n",
    "\n",
    "import seaborn as sns\n",
    "sns.set_context('notebook')\n",
    "sns.set_style('darkgrid')"
   ]
  },
  {
   "cell_type": "code",
   "execution_count": 2,
   "metadata": {
    "collapsed": false
   },
   "outputs": [
    {
     "name": "stdout",
     "output_type": "stream",
     "text": [
      "<class 'pandas.core.frame.DataFrame'>\n",
      "Int64Index: 392 entries, 0 to 396\n",
      "Data columns (total 11 columns):\n",
      "mpg             392 non-null float64\n",
      "cylinders       392 non-null int64\n",
      "displacement    392 non-null float64\n",
      "horsepower      392 non-null float64\n",
      "weight          392 non-null int64\n",
      "acceleration    392 non-null float64\n",
      "year            392 non-null int64\n",
      "origin          392 non-null int64\n",
      "name            392 non-null object\n",
      "horsepower2     392 non-null float64\n",
      "horsepower3     392 non-null float64\n",
      "dtypes: float64(6), int64(4), object(1)\n",
      "memory usage: 35.2+ KB\n"
     ]
    }
   ],
   "source": [
    "#df1 = pd.read_excel('Data/Auto2.xlsx')\n",
    "df1 = pd.read_csv('Data/Auto.csv', na_values='?')\n",
    "df1 = df1.dropna()\n",
    "df1['horsepower2'] = df1.horsepower**2\n",
    "df1['horsepower3'] = df1.horsepower**3\n",
    "df1.info()"
   ]
  },
  {
   "cell_type": "markdown",
   "metadata": {},
   "source": [
    "## Lab"
   ]
  },
  {
   "cell_type": "markdown",
   "metadata": {},
   "source": [
    "### § 5.3.1 Validation Set\n",
    "Split data in a training and a test set. In this case: equal size."
   ]
  },
  {
   "cell_type": "code",
   "execution_count": 47,
   "metadata": {
    "collapsed": false
   },
   "outputs": [],
   "source": [
    "t_prop = 0.5\n",
    "\n",
    "X_train, X_test, y_train, y_test = cross_validation.train_test_split(df1, df1.mpg.reshape(-1,1),\n",
    "                                                                     test_size=t_prop, random_state=0)\n",
    "y = y_test"
   ]
  },
  {
   "cell_type": "code",
   "execution_count": 4,
   "metadata": {
    "collapsed": false
   },
   "outputs": [
    {
     "name": "stdout",
     "output_type": "stream",
     "text": [
      "23.6166170697\n",
      "18.7630313469\n",
      "18.8813346895\n"
     ]
    }
   ],
   "source": [
    "regr1 = skl_lm.LinearRegression()\n",
    "regr1.fit(X_train['horsepower'].as_matrix().reshape(-1,1), y_train)\n",
    "pred1 = regr1.predict(X_test['horsepower'].as_matrix().reshape(-1,1))\n",
    "\n",
    "regr2 = skl_lm.LinearRegression()\n",
    "regr2.fit(X_train[['horsepower', 'horsepower2']].as_matrix().reshape(-1,2), y_train)\n",
    "pred2 = regr2.predict(X_test[['horsepower', 'horsepower2']].as_matrix().reshape(-1,2))\n",
    "\n",
    "regr3 = skl_lm.LinearRegression()\n",
    "regr3.fit(X_train[['horsepower', 'horsepower3']].as_matrix().reshape(-1,2), y_train)\n",
    "pred3 = regr3.predict(X_test[['horsepower', 'horsepower3']].as_matrix().reshape(-1,2))\n",
    "\n",
    "print(mean_squared_error(y, pred1))\n",
    "print(mean_squared_error(y, pred2))\n",
    "print(mean_squared_error(y, pred3))"
   ]
  },
  {
   "cell_type": "markdown",
   "metadata": {},
   "source": [
    "### § 5.3.2 Leave-One-Out Cross-Validation"
   ]
  },
  {
   "cell_type": "code",
   "execution_count": 46,
   "metadata": {
    "collapsed": false
   },
   "outputs": [
    {
     "name": "stdout",
     "output_type": "stream",
     "text": [
      "-24.2315135179\n",
      "-19.2482131245\n",
      "-19.4271386046\n"
     ]
    }
   ],
   "source": [
    "loo = cross_validation.LeaveOneOut(392)\n",
    "\n",
    "scores1 = cross_validation.cross_val_score(regr1, df1[['horsepower']], df1.mpg,\n",
    "                                 cv=loo, scoring='mean_squared_error')\n",
    "scores2 = cross_validation.cross_val_score(regr2, df1[['horsepower', 'horsepower2']], df1.mpg,\n",
    "                                 cv=loo, scoring='mean_squared_error')\n",
    "scores3 = cross_validation.cross_val_score(regr3, df1[['horsepower', 'horsepower3']], df1.mpg,\n",
    "                                 cv=loo, scoring='mean_squared_error')\n",
    "\n",
    "print(scores1.mean())\n",
    "print(scores2.mean())\n",
    "print(scores3.mean())"
   ]
  },
  {
   "cell_type": "markdown",
   "metadata": {},
   "source": [
    "### § 5.3.3 k-Fold Cross-Validation\n",
    "Using k=10"
   ]
  },
  {
   "cell_type": "code",
   "execution_count": 48,
   "metadata": {
    "collapsed": false
   },
   "outputs": [
    {
     "name": "stdout",
     "output_type": "stream",
     "text": [
      "-27.4399336523\n",
      "-21.2358400558\n",
      "-21.4956756318\n"
     ]
    }
   ],
   "source": [
    "# Passing an integer to the 'cv' argument in cross_val_score() implies the use of KFold iterator.\n",
    "# This is the same as defining the iterator explicitly and passing it as the value to the 'cv' argument.\n",
    "# kf_10 = cross_validation.KFold(392, n_folds=10)\n",
    "\n",
    "n_folds = 10\n",
    "\n",
    "scores1 = cross_validation.cross_val_score(regr1, df1[['horsepower']], df1.mpg,\n",
    "                                 cv=n_folds, scoring='mean_squared_error')\n",
    "scores2 = cross_validation.cross_val_score(regr2, df1[['horsepower', 'horsepower2']], df1.mpg,\n",
    "                                 cv=n_folds, scoring='mean_squared_error')\n",
    "scores3 = cross_validation.cross_val_score(regr3, df1[['horsepower', 'horsepower3']], df1.mpg,\n",
    "                                 cv=n_folds, scoring='mean_squared_error')\n",
    "\n",
    "print(scores1.mean())\n",
    "print(scores2.mean())\n",
    "print(scores3.mean())"
   ]
  }
 ],
 "metadata": {
  "kernelspec": {
   "display_name": "Python 3",
   "language": "python",
   "name": "python3"
  },
  "language_info": {
   "codemirror_mode": {
    "name": "ipython",
    "version": 3
   },
   "file_extension": ".py",
   "mimetype": "text/x-python",
   "name": "python",
   "nbconvert_exporter": "python",
   "pygments_lexer": "ipython3",
   "version": "3.4.3"
  }
 },
 "nbformat": 4,
 "nbformat_minor": 0
}
